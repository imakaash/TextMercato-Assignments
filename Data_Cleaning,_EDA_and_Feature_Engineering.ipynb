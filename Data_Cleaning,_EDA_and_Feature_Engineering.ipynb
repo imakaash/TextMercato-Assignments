{
  "nbformat": 4,
  "nbformat_minor": 0,
  "metadata": {
    "colab": {
      "name": "Data Cleaning, EDA and Feature Engineering.ipynb",
      "version": "0.3.2",
      "provenance": [],
      "collapsed_sections": []
    },
    "kernelspec": {
      "name": "python3",
      "display_name": "Python 3"
    },
    "accelerator": "GPU"
  },
  "cells": [
    {
      "metadata": {
        "id": "QDAu5hx6HmEa",
        "colab_type": "text"
      },
      "cell_type": "markdown",
      "source": [
        "## About The Data\n",
        "This is a list of 1,000 hotels and their reviews provided by Datafiniti's Business Database. The dataset includes hotel location, name, rating, review data, title, username, and more.\n",
        " Full Schema of the data is available at (https://developer.datafiniti.co/docs/business-data-schema)\n",
        " \n",
        "\n",
        "*   In this notebook we will be dealing with some data cleaning activity, fixing up some features such as dates\n",
        "*   List item\n",
        "\n"
      ]
    },
    {
      "metadata": {
        "id": "Yy0VXbeAG7ax",
        "colab_type": "code",
        "colab": {}
      },
      "cell_type": "code",
      "source": [
        "# let's start of with importing the necessary libraries\n",
        "import pandas as pd\n",
        "import numpy as np\n",
        "import matplotlib.pyplot as plt\n",
        "import seaborn as sns\n",
        "import datetime as dt"
      ],
      "execution_count": 0,
      "outputs": []
    },
    {
      "metadata": {
        "id": "B_vV0QSMItU8",
        "colab_type": "code",
        "colab": {
          "base_uri": "https://localhost:8080/",
          "height": 34
        },
        "outputId": "f432ac5b-3499-44a8-de5b-d8628c6adb90"
      },
      "cell_type": "code",
      "source": [
        "# importing the data\n",
        "data = pd.read_csv(\"7282_1.csv\",encoding='utf-8')\n",
        "print('Shape of the data: ', data.shape)"
      ],
      "execution_count": 2,
      "outputs": [
        {
          "output_type": "stream",
          "text": [
            "Shape of the data:  (35912, 19)\n"
          ],
          "name": "stdout"
        }
      ]
    },
    {
      "metadata": {
        "id": "2rB5DJP0JGEX",
        "colab_type": "code",
        "colab": {
          "base_uri": "https://localhost:8080/",
          "height": 479
        },
        "outputId": "cb6ff570-db89-4a89-c7b6-a6966ef53229"
      },
      "cell_type": "code",
      "source": [
        "# checking the head of the data\n",
        "data.head(5)"
      ],
      "execution_count": 3,
      "outputs": [
        {
          "output_type": "execute_result",
          "data": {
            "text/html": [
              "<div>\n",
              "<style scoped>\n",
              "    .dataframe tbody tr th:only-of-type {\n",
              "        vertical-align: middle;\n",
              "    }\n",
              "\n",
              "    .dataframe tbody tr th {\n",
              "        vertical-align: top;\n",
              "    }\n",
              "\n",
              "    .dataframe thead th {\n",
              "        text-align: right;\n",
              "    }\n",
              "</style>\n",
              "<table border=\"1\" class=\"dataframe\">\n",
              "  <thead>\n",
              "    <tr style=\"text-align: right;\">\n",
              "      <th></th>\n",
              "      <th>address</th>\n",
              "      <th>categories</th>\n",
              "      <th>city</th>\n",
              "      <th>country</th>\n",
              "      <th>latitude</th>\n",
              "      <th>longitude</th>\n",
              "      <th>name</th>\n",
              "      <th>postalCode</th>\n",
              "      <th>province</th>\n",
              "      <th>reviews.date</th>\n",
              "      <th>reviews.dateAdded</th>\n",
              "      <th>reviews.doRecommend</th>\n",
              "      <th>reviews.id</th>\n",
              "      <th>reviews.rating</th>\n",
              "      <th>reviews.text</th>\n",
              "      <th>reviews.title</th>\n",
              "      <th>reviews.userCity</th>\n",
              "      <th>reviews.username</th>\n",
              "      <th>reviews.userProvince</th>\n",
              "    </tr>\n",
              "  </thead>\n",
              "  <tbody>\n",
              "    <tr>\n",
              "      <th>0</th>\n",
              "      <td>Riviera San Nicol 11/a</td>\n",
              "      <td>Hotels</td>\n",
              "      <td>Mableton</td>\n",
              "      <td>US</td>\n",
              "      <td>45.421611</td>\n",
              "      <td>12.376187</td>\n",
              "      <td>Hotel Russo Palace</td>\n",
              "      <td>30126</td>\n",
              "      <td>GA</td>\n",
              "      <td>2013-09-22T00:00:00Z</td>\n",
              "      <td>2016-10-24T00:00:25Z</td>\n",
              "      <td>NaN</td>\n",
              "      <td>NaN</td>\n",
              "      <td>4.0</td>\n",
              "      <td>Pleasant 10 min walk along the sea front to th...</td>\n",
              "      <td>Good location away from the crouds</td>\n",
              "      <td>NaN</td>\n",
              "      <td>Russ (kent)</td>\n",
              "      <td>NaN</td>\n",
              "    </tr>\n",
              "    <tr>\n",
              "      <th>1</th>\n",
              "      <td>Riviera San Nicol 11/a</td>\n",
              "      <td>Hotels</td>\n",
              "      <td>Mableton</td>\n",
              "      <td>US</td>\n",
              "      <td>45.421611</td>\n",
              "      <td>12.376187</td>\n",
              "      <td>Hotel Russo Palace</td>\n",
              "      <td>30126</td>\n",
              "      <td>GA</td>\n",
              "      <td>2015-04-03T00:00:00Z</td>\n",
              "      <td>2016-10-24T00:00:25Z</td>\n",
              "      <td>NaN</td>\n",
              "      <td>NaN</td>\n",
              "      <td>5.0</td>\n",
              "      <td>Really lovely hotel. Stayed on the very top fl...</td>\n",
              "      <td>Great hotel with Jacuzzi bath!</td>\n",
              "      <td>NaN</td>\n",
              "      <td>A Traveler</td>\n",
              "      <td>NaN</td>\n",
              "    </tr>\n",
              "    <tr>\n",
              "      <th>2</th>\n",
              "      <td>Riviera San Nicol 11/a</td>\n",
              "      <td>Hotels</td>\n",
              "      <td>Mableton</td>\n",
              "      <td>US</td>\n",
              "      <td>45.421611</td>\n",
              "      <td>12.376187</td>\n",
              "      <td>Hotel Russo Palace</td>\n",
              "      <td>30126</td>\n",
              "      <td>GA</td>\n",
              "      <td>2014-05-13T00:00:00Z</td>\n",
              "      <td>2016-10-24T00:00:25Z</td>\n",
              "      <td>NaN</td>\n",
              "      <td>NaN</td>\n",
              "      <td>5.0</td>\n",
              "      <td>Ett mycket bra hotell. Det som drog ner betyge...</td>\n",
              "      <td>Lugnt l��ge</td>\n",
              "      <td>NaN</td>\n",
              "      <td>Maud</td>\n",
              "      <td>NaN</td>\n",
              "    </tr>\n",
              "    <tr>\n",
              "      <th>3</th>\n",
              "      <td>Riviera San Nicol 11/a</td>\n",
              "      <td>Hotels</td>\n",
              "      <td>Mableton</td>\n",
              "      <td>US</td>\n",
              "      <td>45.421611</td>\n",
              "      <td>12.376187</td>\n",
              "      <td>Hotel Russo Palace</td>\n",
              "      <td>30126</td>\n",
              "      <td>GA</td>\n",
              "      <td>2013-10-27T00:00:00Z</td>\n",
              "      <td>2016-10-24T00:00:25Z</td>\n",
              "      <td>NaN</td>\n",
              "      <td>NaN</td>\n",
              "      <td>5.0</td>\n",
              "      <td>We stayed here for four nights in October. The...</td>\n",
              "      <td>Good location on the Lido.</td>\n",
              "      <td>NaN</td>\n",
              "      <td>Julie</td>\n",
              "      <td>NaN</td>\n",
              "    </tr>\n",
              "    <tr>\n",
              "      <th>4</th>\n",
              "      <td>Riviera San Nicol 11/a</td>\n",
              "      <td>Hotels</td>\n",
              "      <td>Mableton</td>\n",
              "      <td>US</td>\n",
              "      <td>45.421611</td>\n",
              "      <td>12.376187</td>\n",
              "      <td>Hotel Russo Palace</td>\n",
              "      <td>30126</td>\n",
              "      <td>GA</td>\n",
              "      <td>2015-03-05T00:00:00Z</td>\n",
              "      <td>2016-10-24T00:00:25Z</td>\n",
              "      <td>NaN</td>\n",
              "      <td>NaN</td>\n",
              "      <td>5.0</td>\n",
              "      <td>We stayed here for four nights in October. The...</td>\n",
              "      <td>������ ���������������</td>\n",
              "      <td>NaN</td>\n",
              "      <td>sungchul</td>\n",
              "      <td>NaN</td>\n",
              "    </tr>\n",
              "  </tbody>\n",
              "</table>\n",
              "</div>"
            ],
            "text/plain": [
              "                  address categories      city country   latitude  longitude  \\\n",
              "0  Riviera San Nicol 11/a     Hotels  Mableton      US  45.421611  12.376187   \n",
              "1  Riviera San Nicol 11/a     Hotels  Mableton      US  45.421611  12.376187   \n",
              "2  Riviera San Nicol 11/a     Hotels  Mableton      US  45.421611  12.376187   \n",
              "3  Riviera San Nicol 11/a     Hotels  Mableton      US  45.421611  12.376187   \n",
              "4  Riviera San Nicol 11/a     Hotels  Mableton      US  45.421611  12.376187   \n",
              "\n",
              "                 name postalCode province          reviews.date  \\\n",
              "0  Hotel Russo Palace      30126       GA  2013-09-22T00:00:00Z   \n",
              "1  Hotel Russo Palace      30126       GA  2015-04-03T00:00:00Z   \n",
              "2  Hotel Russo Palace      30126       GA  2014-05-13T00:00:00Z   \n",
              "3  Hotel Russo Palace      30126       GA  2013-10-27T00:00:00Z   \n",
              "4  Hotel Russo Palace      30126       GA  2015-03-05T00:00:00Z   \n",
              "\n",
              "      reviews.dateAdded  reviews.doRecommend  reviews.id  reviews.rating  \\\n",
              "0  2016-10-24T00:00:25Z                  NaN         NaN             4.0   \n",
              "1  2016-10-24T00:00:25Z                  NaN         NaN             5.0   \n",
              "2  2016-10-24T00:00:25Z                  NaN         NaN             5.0   \n",
              "3  2016-10-24T00:00:25Z                  NaN         NaN             5.0   \n",
              "4  2016-10-24T00:00:25Z                  NaN         NaN             5.0   \n",
              "\n",
              "                                        reviews.text  \\\n",
              "0  Pleasant 10 min walk along the sea front to th...   \n",
              "1  Really lovely hotel. Stayed on the very top fl...   \n",
              "2  Ett mycket bra hotell. Det som drog ner betyge...   \n",
              "3  We stayed here for four nights in October. The...   \n",
              "4  We stayed here for four nights in October. The...   \n",
              "\n",
              "                        reviews.title reviews.userCity reviews.username  \\\n",
              "0  Good location away from the crouds              NaN      Russ (kent)   \n",
              "1      Great hotel with Jacuzzi bath!              NaN       A Traveler   \n",
              "2                         Lugnt l��ge              NaN             Maud   \n",
              "3          Good location on the Lido.              NaN            Julie   \n",
              "4              ������ ���������������              NaN         sungchul   \n",
              "\n",
              "  reviews.userProvince  \n",
              "0                  NaN  \n",
              "1                  NaN  \n",
              "2                  NaN  \n",
              "3                  NaN  \n",
              "4                  NaN  "
            ]
          },
          "metadata": {
            "tags": []
          },
          "execution_count": 3
        }
      ]
    },
    {
      "metadata": {
        "id": "cGmM-rlkXV6Y",
        "colab_type": "code",
        "colab": {
          "base_uri": "https://localhost:8080/",
          "height": 425
        },
        "outputId": "3619a084-b2c2-4f1c-ebe8-3cf25e480b02"
      },
      "cell_type": "code",
      "source": [
        "# checking the info for the data\n",
        "data.info()"
      ],
      "execution_count": 4,
      "outputs": [
        {
          "output_type": "stream",
          "text": [
            "<class 'pandas.core.frame.DataFrame'>\n",
            "RangeIndex: 35912 entries, 0 to 35911\n",
            "Data columns (total 19 columns):\n",
            "address                 35912 non-null object\n",
            "categories              35912 non-null object\n",
            "city                    35912 non-null object\n",
            "country                 35912 non-null object\n",
            "latitude                35826 non-null float64\n",
            "longitude               35826 non-null float64\n",
            "name                    35912 non-null object\n",
            "postalCode              35857 non-null object\n",
            "province                35912 non-null object\n",
            "reviews.date            35653 non-null object\n",
            "reviews.dateAdded       35912 non-null object\n",
            "reviews.doRecommend     0 non-null float64\n",
            "reviews.id              0 non-null float64\n",
            "reviews.rating          35050 non-null float64\n",
            "reviews.text            35890 non-null object\n",
            "reviews.title           34290 non-null object\n",
            "reviews.userCity        16263 non-null object\n",
            "reviews.username        35869 non-null object\n",
            "reviews.userProvince    17518 non-null object\n",
            "dtypes: float64(5), object(14)\n",
            "memory usage: 5.2+ MB\n"
          ],
          "name": "stdout"
        }
      ]
    },
    {
      "metadata": {
        "id": "9JuXtpGcU76x",
        "colab_type": "code",
        "colab": {
          "base_uri": "https://localhost:8080/",
          "height": 297
        },
        "outputId": "3c2b1fd6-cd03-4714-dc33-590da5c8fd98"
      },
      "cell_type": "code",
      "source": [
        "# checking the statistical info for numerical columns\n",
        "data.describe()"
      ],
      "execution_count": 5,
      "outputs": [
        {
          "output_type": "execute_result",
          "data": {
            "text/html": [
              "<div>\n",
              "<style scoped>\n",
              "    .dataframe tbody tr th:only-of-type {\n",
              "        vertical-align: middle;\n",
              "    }\n",
              "\n",
              "    .dataframe tbody tr th {\n",
              "        vertical-align: top;\n",
              "    }\n",
              "\n",
              "    .dataframe thead th {\n",
              "        text-align: right;\n",
              "    }\n",
              "</style>\n",
              "<table border=\"1\" class=\"dataframe\">\n",
              "  <thead>\n",
              "    <tr style=\"text-align: right;\">\n",
              "      <th></th>\n",
              "      <th>latitude</th>\n",
              "      <th>longitude</th>\n",
              "      <th>reviews.doRecommend</th>\n",
              "      <th>reviews.id</th>\n",
              "      <th>reviews.rating</th>\n",
              "    </tr>\n",
              "  </thead>\n",
              "  <tbody>\n",
              "    <tr>\n",
              "      <th>count</th>\n",
              "      <td>35826.000000</td>\n",
              "      <td>35826.000000</td>\n",
              "      <td>0.0</td>\n",
              "      <td>0.0</td>\n",
              "      <td>35050.000000</td>\n",
              "    </tr>\n",
              "    <tr>\n",
              "      <th>mean</th>\n",
              "      <td>37.285008</td>\n",
              "      <td>-85.725758</td>\n",
              "      <td>NaN</td>\n",
              "      <td>NaN</td>\n",
              "      <td>3.776431</td>\n",
              "    </tr>\n",
              "    <tr>\n",
              "      <th>std</th>\n",
              "      <td>6.996544</td>\n",
              "      <td>33.062263</td>\n",
              "      <td>NaN</td>\n",
              "      <td>NaN</td>\n",
              "      <td>1.416195</td>\n",
              "    </tr>\n",
              "    <tr>\n",
              "      <th>min</th>\n",
              "      <td>-25.436750</td>\n",
              "      <td>-166.559040</td>\n",
              "      <td>NaN</td>\n",
              "      <td>NaN</td>\n",
              "      <td>0.000000</td>\n",
              "    </tr>\n",
              "    <tr>\n",
              "      <th>25%</th>\n",
              "      <td>33.827340</td>\n",
              "      <td>-104.868200</td>\n",
              "      <td>NaN</td>\n",
              "      <td>NaN</td>\n",
              "      <td>3.000000</td>\n",
              "    </tr>\n",
              "    <tr>\n",
              "      <th>50%</th>\n",
              "      <td>37.936026</td>\n",
              "      <td>-86.822972</td>\n",
              "      <td>NaN</td>\n",
              "      <td>NaN</td>\n",
              "      <td>4.000000</td>\n",
              "    </tr>\n",
              "    <tr>\n",
              "      <th>75%</th>\n",
              "      <td>41.672491</td>\n",
              "      <td>-77.044550</td>\n",
              "      <td>NaN</td>\n",
              "      <td>NaN</td>\n",
              "      <td>5.000000</td>\n",
              "    </tr>\n",
              "    <tr>\n",
              "      <th>max</th>\n",
              "      <td>63.877674</td>\n",
              "      <td>115.164407</td>\n",
              "      <td>NaN</td>\n",
              "      <td>NaN</td>\n",
              "      <td>10.000000</td>\n",
              "    </tr>\n",
              "  </tbody>\n",
              "</table>\n",
              "</div>"
            ],
            "text/plain": [
              "           latitude     longitude  reviews.doRecommend  reviews.id  \\\n",
              "count  35826.000000  35826.000000                  0.0         0.0   \n",
              "mean      37.285008    -85.725758                  NaN         NaN   \n",
              "std        6.996544     33.062263                  NaN         NaN   \n",
              "min      -25.436750   -166.559040                  NaN         NaN   \n",
              "25%       33.827340   -104.868200                  NaN         NaN   \n",
              "50%       37.936026    -86.822972                  NaN         NaN   \n",
              "75%       41.672491    -77.044550                  NaN         NaN   \n",
              "max       63.877674    115.164407                  NaN         NaN   \n",
              "\n",
              "       reviews.rating  \n",
              "count    35050.000000  \n",
              "mean         3.776431  \n",
              "std          1.416195  \n",
              "min          0.000000  \n",
              "25%          3.000000  \n",
              "50%          4.000000  \n",
              "75%          5.000000  \n",
              "max         10.000000  "
            ]
          },
          "metadata": {
            "tags": []
          },
          "execution_count": 5
        }
      ]
    },
    {
      "metadata": {
        "id": "pfWXGXJGJN_O",
        "colab_type": "code",
        "colab": {
          "base_uri": "https://localhost:8080/",
          "height": 357
        },
        "outputId": "1b6bb1ea-0100-457f-c3a2-81483615a638"
      },
      "cell_type": "code",
      "source": [
        "# let's check out the number of nulls in each column\n",
        "data.isnull().sum()"
      ],
      "execution_count": 6,
      "outputs": [
        {
          "output_type": "execute_result",
          "data": {
            "text/plain": [
              "address                     0\n",
              "categories                  0\n",
              "city                        0\n",
              "country                     0\n",
              "latitude                   86\n",
              "longitude                  86\n",
              "name                        0\n",
              "postalCode                 55\n",
              "province                    0\n",
              "reviews.date              259\n",
              "reviews.dateAdded           0\n",
              "reviews.doRecommend     35912\n",
              "reviews.id              35912\n",
              "reviews.rating            862\n",
              "reviews.text               22\n",
              "reviews.title            1622\n",
              "reviews.userCity        19649\n",
              "reviews.username           43\n",
              "reviews.userProvince    18394\n",
              "dtype: int64"
            ]
          },
          "metadata": {
            "tags": []
          },
          "execution_count": 6
        }
      ]
    },
    {
      "metadata": {
        "id": "__b_BrzMJ3jP",
        "colab_type": "text"
      },
      "cell_type": "markdown",
      "source": [
        "We can see that 'reviews.doRecommend' and 'reviews.id' feature have no records for all the observation. So it will be safe to drop these columns."
      ]
    },
    {
      "metadata": {
        "id": "VxZI53ihJxFQ",
        "colab_type": "code",
        "colab": {}
      },
      "cell_type": "code",
      "source": [
        "# dropping the 'reviews.doRecommend' and 'reviews.id' columns\n",
        "data = data.drop(['reviews.doRecommend','reviews.id'],axis=1)"
      ],
      "execution_count": 0,
      "outputs": []
    },
    {
      "metadata": {
        "id": "RfbVsXPuKTlW",
        "colab_type": "code",
        "colab": {
          "base_uri": "https://localhost:8080/",
          "height": 412
        },
        "outputId": "32bcca5d-bfbe-4539-eaeb-be36f64ac41b"
      },
      "cell_type": "code",
      "source": [
        "# let's quickly check out the 'country' from which these reviews came in\n",
        "sns.countplot('country', data = data)"
      ],
      "execution_count": 8,
      "outputs": [
        {
          "output_type": "stream",
          "text": [
            "/usr/local/lib/python3.6/dist-packages/seaborn/categorical.py:1428: FutureWarning: remove_na is deprecated and is a private function. Do not use.\n",
            "  stat_data = remove_na(group_data)\n"
          ],
          "name": "stderr"
        },
        {
          "output_type": "execute_result",
          "data": {
            "text/plain": [
              "<matplotlib.axes._subplots.AxesSubplot at 0x7f7fe69a8160>"
            ]
          },
          "metadata": {
            "tags": []
          },
          "execution_count": 8
        },
        {
          "output_type": "display_data",
          "data": {
            "image/png": "[encoded data removed]",
            "text/plain": [
              "<matplotlib.figure.Figure at 0x7f80096e3588>"
            ]
          },
          "metadata": {
            "tags": []
          }
        }
      ]
    },
    {
      "metadata": {
        "id": "jUdd28CvKydU",
        "colab_type": "code",
        "colab": {
          "base_uri": "https://localhost:8080/",
          "height": 204
        },
        "outputId": "da92ed9f-0a4e-46c3-ff24-49439362fbfb"
      },
      "cell_type": "code",
      "source": [
        "# let's check out the top 10 hotels from which the most reviews came in\n",
        "data['name'].value_counts()[:10]"
      ],
      "execution_count": 9,
      "outputs": [
        {
          "output_type": "execute_result",
          "data": {
            "text/plain": [
              "The Alexandrian, Autograph Collection          1185\n",
              "Howard Johnson Inn - Newburgh                   714\n",
              "Americas Best Value Inn                         567\n",
              "Fiesta Inn and Suites                           546\n",
              "Ip Casino Resort Spa                            392\n",
              "Best Western Plus Waterville Grand Hotel        335\n",
              "Hampton Inn Virginia Beach Oceanfront North     334\n",
              "Comfort Suites                                  326\n",
              "New York Marriott Marquis                       320\n",
              "Best Western of Long Beach                      317\n",
              "Name: name, dtype: int64"
            ]
          },
          "metadata": {
            "tags": []
          },
          "execution_count": 9
        }
      ]
    },
    {
      "metadata": {
        "id": "hGwrffx7LXYa",
        "colab_type": "code",
        "colab": {
          "base_uri": "https://localhost:8080/",
          "height": 378
        },
        "outputId": "5b3ff6d6-83a5-4e50-fb2f-80c0cec676f2"
      },
      "cell_type": "code",
      "source": [
        "# let's check the distribution of the rating\n",
        "sns.distplot(data['reviews.rating'].dropna(),kde=False,bins=20)"
      ],
      "execution_count": 10,
      "outputs": [
        {
          "output_type": "execute_result",
          "data": {
            "text/plain": [
              "<matplotlib.axes._subplots.AxesSubplot at 0x7f7fe697e2e8>"
            ]
          },
          "metadata": {
            "tags": []
          },
          "execution_count": 10
        },
        {
          "output_type": "display_data",
          "data": {
            "image/png": "[encoded data removed]",
            "text/plain": [
              "<matplotlib.figure.Figure at 0x7f7fe6929dd8>"
            ]
          },
          "metadata": {
            "tags": []
          }
        }
      ]
    },
    {
      "metadata": {
        "id": "EHpNocRMVgwh",
        "colab_type": "text"
      },
      "cell_type": "markdown",
      "source": [
        "From the visualization above it is clear that some basic issues that needs to be fixed before starting. Some reviews had a '0' rating and some reviews had a rating above '5', so filtering these records out of the dataset.\n"
      ]
    },
    {
      "metadata": {
        "id": "lo2VRIHDVfBe",
        "colab_type": "code",
        "colab": {}
      },
      "cell_type": "code",
      "source": [
        "# adding new feature called 'length' which is length of reviews\n",
        "data['length'] = data['reviews.text'].dropna().apply(len)\n",
        "data['length'] = data['length'].fillna(0)\n",
        "data['length'] = data['length'].astype(int)\n",
        "\n",
        "# filling empty reviews with an 'x'\n",
        "data['reviews.text'] = data['reviews.text'].fillna('x')\n",
        "\n",
        "# keeping the records which have the ratings greater than 0 and less than equal to 5\n",
        "data = data[data['reviews.rating']>0]\n",
        "data = data[data['reviews.rating']<=5]\n",
        "\n",
        "# rounding each of those down to an integer since some ratings had decimals\n",
        "data['reviews.rating'] = data['reviews.rating'].astype(int)"
      ],
      "execution_count": 0,
      "outputs": []
    },
    {
      "metadata": {
        "id": "CWF61R4qcKxB",
        "colab_type": "code",
        "colab": {
          "base_uri": "https://localhost:8080/",
          "height": 364
        },
        "outputId": "18902339-7f48-40d2-d152-e0692cd31508"
      },
      "cell_type": "code",
      "source": [
        "# plotting reviews length\n",
        "data['length'].plot(bins=50, kind='hist')"
      ],
      "execution_count": 12,
      "outputs": [
        {
          "output_type": "execute_result",
          "data": {
            "text/plain": [
              "<matplotlib.axes._subplots.AxesSubplot at 0x7f7fe40c68d0>"
            ]
          },
          "metadata": {
            "tags": []
          },
          "execution_count": 12
        },
        {
          "output_type": "display_data",
          "data": {
            "image/png": "[encoded data removed]",
            "text/plain": [
              "<matplotlib.figure.Figure at 0x7f7fe6932f98>"
            ]
          },
          "metadata": {
            "tags": []
          }
        }
      ]
    },
    {
      "metadata": {
        "id": "6cNFRh-0cYAi",
        "colab_type": "code",
        "colab": {
          "base_uri": "https://localhost:8080/",
          "height": 170
        },
        "outputId": "3107f516-5104-4862-beda-4dc9d7cb6465"
      },
      "cell_type": "code",
      "source": [
        "# describing the length column\n",
        "data['length'].describe()"
      ],
      "execution_count": 13,
      "outputs": [
        {
          "output_type": "execute_result",
          "data": {
            "text/plain": [
              "count    34356.000000\n",
              "mean       255.012574\n",
              "std        218.010022\n",
              "min          0.000000\n",
              "25%        102.000000\n",
              "50%        225.000000\n",
              "75%        330.000000\n",
              "max       3772.000000\n",
              "Name: length, dtype: float64"
            ]
          },
          "metadata": {
            "tags": []
          },
          "execution_count": 13
        }
      ]
    },
    {
      "metadata": {
        "id": "oUq_9Ajmciy-",
        "colab_type": "text"
      },
      "cell_type": "markdown",
      "source": [
        "Woah! 3772 characters is the length of the max review, let's use masking to find this message:"
      ]
    },
    {
      "metadata": {
        "id": "csvGZyyWcr1p",
        "colab_type": "code",
        "colab": {
          "base_uri": "https://localhost:8080/",
          "height": 54
        },
        "outputId": "31575e3b-73a1-4cab-bdbd-fb65e9625db3"
      },
      "cell_type": "code",
      "source": [
        "# printing the longest review\n",
        "data[data['length'] == 3772]['reviews.text'].iloc[0]"
      ],
      "execution_count": 14,
      "outputs": [
        {
          "output_type": "execute_result",
          "data": {
            "text/plain": [
              "\"Denied access, after fully paid confirmed reservation My problems with this company began in December 2011 when I purchased two Groupon vouchers at 329 each for two nights each. The fine print stated there was an additional fee of 125 for cleaning and insurance per voucher, as well as 12.5 tax. After several days of trying to reach a live person I was able to get a registration clerk who informed me that several of the days I needed were blacked out to Groupon users, as well as certain cabins. This was not listed in the fine print and thus I had to receive a refund on one due to the dates I needed being blacked out. A few days later I called to book for the second voucher and was informed that the additional fees totaled more than 250. I explained what my voucher said, and that my fees should total 181.75 per the Groupon. The clerk refused to budge and also refused to allow me to speak with a member of management, stating, the buck stops with me, if you don't want to pay it, get a refund. And hung up on me. I repeatedly tried to call back and as soon as the phone would be picked up it would be hung up. I emailed their website, as well as left comments on the company facebook with the facts I have stated here. Not only did I not receive a response but I was blocked from their facebook. Apparently a glutton for punishment I called once again and got a young man on the phone in their offices and he told me that he would charge my card 189, alot less than 250, but still more than the Groupon states, and that would cover the remaining fees. Imagine my chagrin when I begin receiving past due emails from Elk Springs. I replied with the fact that I had provided my card information and did not wish to sit on hold with them or be hung up on yet again. I received a reply asking if I would like a callback, but before I could reply I received another message stating if I do not want to pay the fees to call Groupon and get a refund. I immediately called the office as soon as I received the message to mhy smartphone, to speak directly with the unprofessional woman I had been corresponding. She of course was out. No longer having any fight left in me, as this was supposed to be a christmas gift to a friend, I paid 194 to finalize my reservations. Keep in mind that this is the 3rd additional fee I had been stated that was different, and still not in line with the Groupon. Now, one week before our trip I finally was able to settle this horrible experience and got a confirmation, paid in full. However, due to the lack of customer service and downright disdain from this company I filed a complaint with the BBB asking that I receive an apology and possibly a small discount after this terrible experience, even before we have arrived. The owner responded by canceling our stay, three days prior to our arrival. I explained to him that it was not my desire to cancel, but that I wanted the lack of service addressed. He refused, stating that he could do whatever I want. I explained, yes, you can do whatever you want, however with three days notice and over 550 tied up and yet to be refunded for the lodging, our family cannot find alternative lodging. Further, in the state of TN there are only 3 reasons an innkeeper can refuse access to someone with a confirmed, fully paid reservation, and a BBB complaint is not one of them. Now my family has all taken vacation time and we have to try and secure lodging in the next two days, and I have to use money that was allocated for travel and activities. I am not sure we will be able to have a vacation due to the malice of this business owner. I do intend to seek further legal action. It is a beautiful property, but it is run by the most unprofessional owner and staff I have ever encountered.\""
            ]
          },
          "metadata": {
            "tags": []
          },
          "execution_count": 14
        }
      ]
    },
    {
      "metadata": {
        "id": "4BgiVMHmg1zy",
        "colab_type": "code",
        "colab": {
          "base_uri": "https://localhost:8080/",
          "height": 886
        },
        "outputId": "6e8e4093-c91a-49fa-a67e-0661c3666d74"
      },
      "cell_type": "code",
      "source": [
        "# visualizing the length of reviews agaignst the rating to find some pattern\n",
        "data.hist(column='length', by='reviews.rating', bins=50,figsize=(12,12))\n",
        "plt.xlabel('Length')\n",
        "plt.ylabel('Frequency')\n",
        "plt.tight_layout()\n",
        "\n",
        "print('Correleation between length of reviews and rating is: ',data['length'].corr(data['reviews.rating']))"
      ],
      "execution_count": 15,
      "outputs": [
        {
          "output_type": "stream",
          "text": [
            "Correleation between length of reviews and rating is:  -0.1531054233620009\n"
          ],
          "name": "stdout"
        },
        {
          "output_type": "display_data",
          "data": {
            "image/png": "[encoded data removed]",
            "text/plain": [
              "<matplotlib.figure.Figure at 0x7f7fe3fa78d0>"
            ]
          },
          "metadata": {
            "tags": []
          }
        }
      ]
    },
    {
      "metadata": {
        "id": "719cvcKTd6EW",
        "colab_type": "text"
      },
      "cell_type": "markdown",
      "source": [
        "**We can see some aspects **\n",
        "\n",
        "*   Most of the people who have given higher ratings have kept there reviews short.\n",
        "*   Some of the people who have given less ratings have tend to given longer reviews \n",
        "\n"
      ]
    },
    {
      "metadata": {
        "id": "M8g0xWmvMRSY",
        "colab_type": "code",
        "colab": {}
      },
      "cell_type": "code",
      "source": [
        "# let's handle the date and time section\n",
        "data['Date'] = pd.to_datetime(data['reviews.dateAdded'], errors='coerce')\n",
        "data['new_date'] = [d.date() for d in data['Date']]\n",
        "data['new_time'] = [d.time() for d in data['Date']]\n",
        "data['day'] = pd.DatetimeIndex(data['new_date']).day \n",
        "data['month'] = pd.DatetimeIndex(data['new_date']).month\n",
        "data['year'] = pd.DatetimeIndex(data['new_date']).year \n",
        "data = data.drop(['Date'],axis=1)"
      ],
      "execution_count": 0,
      "outputs": []
    },
    {
      "metadata": {
        "id": "9yAzgt2hNHy_",
        "colab_type": "code",
        "colab": {
          "base_uri": "https://localhost:8080/",
          "height": 839
        },
        "outputId": "b100e700-5f55-4d6a-c016-dcb9c40a98b2"
      },
      "cell_type": "code",
      "source": [
        "# let's visualize if we can see any patterns in day, month or years for the review \n",
        "plt.figure(figsize=(10,4))\n",
        "sns.countplot(data['day'])\n",
        "plt.ylabel(\"Number Of Review\")\n",
        "plt.xlabel(\"Reviews Days\")\n",
        "plt.show()\n",
        "\n",
        "plt.figure(figsize=(10,4))\n",
        "sns.countplot(data['month'])\n",
        "plt.ylabel(\"Number Of Review\")\n",
        "plt.xlabel(\"Reviews Months\")\n",
        "plt.show()\n",
        "\n",
        "plt.figure(figsize=(10,4))\n",
        "sns.countplot(data['year'])\n",
        "plt.ylabel(\"Number Of Review\")\n",
        "plt.xlabel(\"Reviews Year\")\n",
        "plt.show()"
      ],
      "execution_count": 17,
      "outputs": [
        {
          "output_type": "stream",
          "text": [
            "/usr/local/lib/python3.6/dist-packages/seaborn/categorical.py:1428: FutureWarning: remove_na is deprecated and is a private function. Do not use.\n",
            "  stat_data = remove_na(group_data)\n"
          ],
          "name": "stderr"
        },
        {
          "output_type": "display_data",
          "data": {
            "image/png": "[encoded data removed]",
            "text/plain": [
              "<matplotlib.figure.Figure at 0x7f7fe3e83518>"
            ]
          },
          "metadata": {
            "tags": []
          }
        },
        {
          "output_type": "display_data",
          "data": {
            "image/png": "[encoded data removed]",
            "text/plain": [
              "<matplotlib.figure.Figure at 0x7f7fe3e835c0>"
            ]
          },
          "metadata": {
            "tags": []
          }
        },
        {
          "output_type": "display_data",
          "data": {
            "image/png": "[encoded data removed]",
            "text/plain": [
              "<matplotlib.figure.Figure at 0x7f7fe3f7c4a8>"
            ]
          },
          "metadata": {
            "tags": []
          }
        }
      ]
    },
    {
      "metadata": {
        "id": "32bXqiydekMa",
        "colab_type": "text"
      },
      "cell_type": "markdown",
      "source": [
        "**Some pattern which can be listed from the dates are**\n",
        "\n",
        "\n",
        "*   When it comes to day, most of the reviews were made during start, mid and end of the month. \n",
        "*   When it comes to month, most of the reviews were made during year end during holidays when people actually travel more. i,e,. October, November and December.\n",
        "\n",
        "\n",
        "*   For years, the review came mostly from 2016.\n",
        "\n",
        "\n",
        "\n"
      ]
    },
    {
      "metadata": {
        "id": "ijWHNQuNO2mC",
        "colab_type": "code",
        "colab": {
          "base_uri": "https://localhost:8080/",
          "height": 383
        },
        "outputId": "fcbec351-40f7-4fe9-bbaa-584360ffd450"
      },
      "cell_type": "code",
      "source": [
        "# let's visualize to see which are the top 10 users who has given most reviews\n",
        "\n",
        "user_freq = data['reviews.username'].value_counts()[:10]\n",
        "plt.figure(figsize=(10,4))\n",
        "sns.barplot(user_freq.index,user_freq.values)\n",
        "plt.ylabel('Count of Reviews')\n",
        "plt.xlabel('User Name')\n",
        "plt.xticks(rotation='vertical')\n",
        "plt.show()"
      ],
      "execution_count": 18,
      "outputs": [
        {
          "output_type": "stream",
          "text": [
            "/usr/local/lib/python3.6/dist-packages/seaborn/categorical.py:1428: FutureWarning: remove_na is deprecated and is a private function. Do not use.\n",
            "  stat_data = remove_na(group_data)\n"
          ],
          "name": "stderr"
        },
        {
          "output_type": "display_data",
          "data": {
            "image/png": "[encoded data removed]",
            "text/plain": [
              "<matplotlib.figure.Figure at 0x7f7fe3e83f98>"
            ]
          },
          "metadata": {
            "tags": []
          }
        }
      ]
    },
    {
      "metadata": {
        "id": "xSvliLNIS40Q",
        "colab_type": "code",
        "colab": {
          "base_uri": "https://localhost:8080/",
          "height": 641
        },
        "outputId": "33bf9fd9-2297-47fe-dde6-227d15de8229"
      },
      "cell_type": "code",
      "source": [
        "# let's visualize to see which are the top 10 cities and provinces from which the reviews came in\n",
        "city_counts = data['city'].value_counts()[:10]\n",
        "plt.figure(figsize=(10,4))\n",
        "sns.barplot(city_counts.index,city_counts.values)\n",
        "plt.ylabel('Reviews By City')\n",
        "plt.xlabel('City Name')\n",
        "plt.xticks(rotation='vertical')\n",
        "plt.show()\n",
        "\n",
        "province_counts = data['province'].value_counts()[:10]\n",
        "plt.figure(figsize=(10,4))\n",
        "sns.barplot(province_counts.index,province_counts.values)\n",
        "plt.ylabel('Reviews By Province')\n",
        "plt.xlabel('Province Code')\n",
        "plt.xticks(rotation='vertical')\n",
        "plt.show()\n"
      ],
      "execution_count": 19,
      "outputs": [
        {
          "output_type": "stream",
          "text": [
            "/usr/local/lib/python3.6/dist-packages/seaborn/categorical.py:1428: FutureWarning: remove_na is deprecated and is a private function. Do not use.\n",
            "  stat_data = remove_na(group_data)\n"
          ],
          "name": "stderr"
        },
        {
          "output_type": "display_data",
          "data": {
            "image/png": "[encoded data removed]",
            "text/plain": [
              "<matplotlib.figure.Figure at 0x7f7fe3b51438>"
            ]
          },
          "metadata": {
            "tags": []
          }
        },
        {
          "output_type": "display_data",
          "data": {
            "image/png": "[encoded data removed]",
            "text/plain": [
              "<matplotlib.figure.Figure at 0x7f7fe3c38f60>"
            ]
          },
          "metadata": {
            "tags": []
          }
        }
      ]
    },
    {
      "metadata": {
        "id": "6B4-E73QfkwB",
        "colab_type": "text"
      },
      "cell_type": "markdown",
      "source": [
        "**Some pattern which can be listed from the City and Provinces are**\n",
        "\n",
        "\n",
        "*   City Alexandria saw most of the reviews coming in with fair amount of reviews coming from Newburgh, San Antonio and Virginia beach \n",
        "*   California saw most of the reviews coming in when coming to province\n",
        "\n",
        "\n",
        "\n"
      ]
    },
    {
      "metadata": {
        "id": "7iknLBzRVUnt",
        "colab_type": "code",
        "colab": {
          "base_uri": "https://localhost:8080/",
          "height": 382
        },
        "outputId": "6e072103-610c-4c26-f2d2-4ac0c885f5db"
      },
      "cell_type": "code",
      "source": [
        "# plotting location of hotel reviews\n",
        "plt.figure(figsize=(10,5))\n",
        "sns.lmplot(x='longitude',y='latitude',data=data,fit_reg=False)\n",
        "plt.ylabel('Longitude')\n",
        "plt.xlabel('Latitude')\n",
        "plt.show()"
      ],
      "execution_count": 20,
      "outputs": [
        {
          "output_type": "display_data",
          "data": {
            "text/plain": [
              "<matplotlib.figure.Figure at 0x7f7fe3eeccc0>"
            ]
          },
          "metadata": {
            "tags": []
          }
        },
        {
          "output_type": "display_data",
          "data": {
            "image/png": "[encoded data removed]",
            "text/plain": [
              "<matplotlib.figure.Figure at 0x7f7fe3b4fc88>"
            ]
          },
          "metadata": {
            "tags": []
          }
        }
      ]
    },
    {
      "metadata": {
        "id": "ypPgXpE5SAql",
        "colab_type": "code",
        "colab": {}
      },
      "cell_type": "code",
      "source": [
        "# filtering the reviews to only include datapoints within the US\n",
        "data = data[((data['latitude']<=50.0) & (data['latitude']>=24.0)) & ((data['longitude']<=-65.0) & (data['longitude']>=-122.0))]"
      ],
      "execution_count": 0,
      "outputs": []
    },
    {
      "metadata": {
        "id": "3gPvtD-si3gE",
        "colab_type": "text"
      },
      "cell_type": "markdown",
      "source": [
        "## Now let's begin to process the data so we can eventually use it"
      ]
    },
    {
      "metadata": {
        "id": "9rGz-groSKiI",
        "colab_type": "code",
        "colab": {}
      },
      "cell_type": "code",
      "source": [
        "# importing the libraries\n",
        "import string\n",
        "from nltk.corpus import stopwords\n",
        "from nltk.stem.porter import PorterStemmer"
      ],
      "execution_count": 0,
      "outputs": []
    },
    {
      "metadata": {
        "id": "hgGg3CCtn5Rs",
        "colab_type": "code",
        "colab": {
          "base_uri": "https://localhost:8080/",
          "height": 289
        },
        "outputId": "655ee8fa-27ef-475d-9161-34d737c180f7"
      },
      "cell_type": "code",
      "source": [
        "import nltk # imports the library\n",
        "#nltk.download() # downloads the necessary datasets"
      ],
      "execution_count": 26,
      "outputs": [
        {
          "output_type": "stream",
          "text": [
            "NLTK Downloader\n",
            "---------------------------------------------------------------------------\n",
            "    d) Download   l) List    u) Update   c) Config   h) Help   q) Quit\n",
            "---------------------------------------------------------------------------\n",
            "Downloader> d\n",
            "\n",
            "Download which package (l=list; x=cancel)?\n",
            "  Identifier> stopwords\n",
            "    Downloading package stopwords to /root/nltk_data...\n",
            "      Unzipping corpora/stopwords.zip.\n",
            "\n",
            "---------------------------------------------------------------------------\n",
            "    d) Download   l) List    u) Update   c) Config   h) Help   q) Quit\n",
            "---------------------------------------------------------------------------\n",
            "Downloader> q\n"
          ],
          "name": "stdout"
        },
        {
          "output_type": "execute_result",
          "data": {
            "text/plain": [
              "True"
            ]
          },
          "metadata": {
            "tags": []
          },
          "execution_count": 26
        }
      ]
    },
    {
      "metadata": {
        "id": "QOBwUp3VjYVX",
        "colab_type": "text"
      },
      "cell_type": "markdown",
      "source": [
        "Lets's create a function to process the reviews"
      ]
    },
    {
      "metadata": {
        "id": "zkxh7OHXUs8D",
        "colab_type": "code",
        "colab": {}
      },
      "cell_type": "code",
      "source": [
        "def text_process(revs):\n",
        "    \"\"\"\n",
        "    Takes in a string of text, then performs the following:\n",
        "    1. Remove all punctuation\n",
        "    2. Remove all stopwords\n",
        "    3. Returns a list of the cleaned text\n",
        "    \"\"\"\n",
        "    # lower case the input string\n",
        "    revs = revs.lower()\n",
        "    \n",
        "    # check characters to see if they are in punctuation\n",
        "    nopunc = [char for char in revs if char not in string.punctuation]\n",
        "\n",
        "    # join the characters again to form the string.\n",
        "    nopunc = ''.join(nopunc)\n",
        "    \n",
        "    ps = PorterStemmer()\n",
        "    review = [ps.stem(word) for word in nopunc.split() if not word in set(stopwords.words('english'))]\n",
        "    \n",
        "    \n",
        "    return review"
      ],
      "execution_count": 0,
      "outputs": []
    },
    {
      "metadata": {
        "id": "Iel5iiNCnc3H",
        "colab_type": "code",
        "colab": {
          "base_uri": "https://localhost:8080/",
          "height": 119
        },
        "outputId": "413c3255-cda0-4f52-cd68-4dd6a6dd59b9"
      },
      "cell_type": "code",
      "source": [
        "# checking to make sure its working\n",
        "data['reviews.text'].head(5).apply(text_process)"
      ],
      "execution_count": 28,
      "outputs": [
        {
          "output_type": "execute_result",
          "data": {
            "text/plain": [
              "60    [wonder, relax, time, staff, complet, attent, ...\n",
              "61    [palm, spring, day, temperatur, 123, degre, de...\n",
              "62    [arriv, palm, spring, sure, expectit, quiet, k...\n",
              "63    [place, realli, littl, paradis, beauti, boutiq...\n",
              "64    [spent, 3, night, littl, paradis, boutiqu, hot...\n",
              "Name: reviews.text, dtype: object"
            ]
          },
          "metadata": {
            "tags": []
          },
          "execution_count": 28
        }
      ]
    },
    {
      "metadata": {
        "id": "8tplUCUbpGDG",
        "colab_type": "text"
      },
      "cell_type": "markdown",
      "source": [
        "Given the function working, so now lets create the Bag of Words (BoW) model which a machine learning model can understand. \n",
        "\n",
        "*   We can imagine this as a 2-Dimensional matrix. Where the 1-dimension is the entire vocabulary (1 row per word) and the other dimension are the actual documents, in this case a column per text message.\n",
        "*   Since there are so many messages, we can expect a lot of zero counts for the presence of that word in that document. Because of this, SciKit Learn will output a Sparse Matrix."
      ]
    },
    {
      "metadata": {
        "id": "MW1Km1Nrnrl9",
        "colab_type": "code",
        "colab": {}
      },
      "cell_type": "code",
      "source": [
        "# import the library\n",
        "from sklearn.feature_extraction.text import CountVectorizer"
      ],
      "execution_count": 0,
      "outputs": []
    },
    {
      "metadata": {
        "id": "wZngsdxSpxOZ",
        "colab_type": "code",
        "colab": {
          "base_uri": "https://localhost:8080/",
          "height": 34
        },
        "outputId": "0b700ab4-7a7e-41b9-e31b-482e83f23101"
      },
      "cell_type": "code",
      "source": [
        "# fitting reviews to our BoW model\n",
        "bow_transformer = CountVectorizer(analyzer=text_process).fit(data['reviews.text'])\n",
        "\n",
        "# print total number of vocab words\n",
        "print(len(bow_transformer.vocabulary_))"
      ],
      "execution_count": 30,
      "outputs": [
        {
          "output_type": "stream",
          "text": [
            "22482\n"
          ],
          "name": "stdout"
        }
      ]
    },
    {
      "metadata": {
        "id": "VVIEpQQOp7CH",
        "colab_type": "code",
        "colab": {}
      },
      "cell_type": "code",
      "source": [
        "# using transform on the bow model\n",
        "reviews_bow = bow_transformer.transform(data['reviews.text'])"
      ],
      "execution_count": 0,
      "outputs": []
    },
    {
      "metadata": {
        "id": "IS3WNU-Hq9IY",
        "colab_type": "code",
        "colab": {
          "base_uri": "https://localhost:8080/",
          "height": 51
        },
        "outputId": "2f9e9738-abaf-421b-b2ee-74a5e9215863"
      },
      "cell_type": "code",
      "source": [
        "print('Shape of Sparse Matrix: ', reviews_bow.shape)\n",
        "print('Amount of Non-Zero occurences: ', reviews_bow.nnz)"
      ],
      "execution_count": 32,
      "outputs": [
        {
          "output_type": "stream",
          "text": [
            "Shape of Sparse Matrix:  (29463, 22482)\n",
            "Amount of Non-Zero occurences:  639435\n"
          ],
          "name": "stdout"
        }
      ]
    },
    {
      "metadata": {
        "id": "yOsbGA1JrBz9",
        "colab_type": "code",
        "colab": {
          "base_uri": "https://localhost:8080/",
          "height": 34
        },
        "outputId": "4fd05597-56c9-4fda-e8e5-f06ec848df73"
      },
      "cell_type": "code",
      "source": [
        "# checking the sparsity of the matrix\n",
        "sparsity = (100.0 * reviews_bow.nnz / (reviews_bow.shape[0] * reviews_bow.shape[1]))\n",
        "print('Sparsity: {}'.format(round(sparsity)))"
      ],
      "execution_count": 33,
      "outputs": [
        {
          "output_type": "stream",
          "text": [
            "Sparsity: 0\n"
          ],
          "name": "stdout"
        }
      ]
    },
    {
      "metadata": {
        "id": "H6Gx_PPirHq-",
        "colab_type": "code",
        "colab": {}
      },
      "cell_type": "code",
      "source": [
        "# import library for tf-idf transformer\n",
        "from sklearn.feature_extraction.text import TfidfTransformer\n",
        "\n",
        "# transforming the BoW model\n",
        "tfidf_transformer = TfidfTransformer().fit(reviews_bow)"
      ],
      "execution_count": 0,
      "outputs": []
    },
    {
      "metadata": {
        "id": "symrPe7wrc8n",
        "colab_type": "code",
        "colab": {
          "base_uri": "https://localhost:8080/",
          "height": 34
        },
        "outputId": "ac1b1f30-6cb4-4d94-a08f-aa30f611b73e"
      },
      "cell_type": "code",
      "source": [
        "reviews_tfidf = tfidf_transformer.transform(reviews_bow)\n",
        "print('Shape: ',reviews_tfidf.shape)"
      ],
      "execution_count": 35,
      "outputs": [
        {
          "output_type": "stream",
          "text": [
            "Shape:  (29463, 22482)\n"
          ],
          "name": "stdout"
        }
      ]
    },
    {
      "metadata": {
        "id": "t8xTBgTLsY9U",
        "colab_type": "text"
      },
      "cell_type": "markdown",
      "source": [
        "Given, the data is prepared for training the machine learning model. Let use a classifier model such as Naive Bayes model which is expected to work well during these scenarios. But before that,\n",
        "Lets add a new feature for sentiment analysis called 'Label'.\n",
        "\n",
        "\n",
        "*   Ratings <= 2 will be considered **Bad** i,e,. **0**\n",
        "*   Ratings >2 will be considered **Good** i,e,. **1**\n",
        "\n"
      ]
    },
    {
      "metadata": {
        "id": "X7wIom9113_n",
        "colab_type": "code",
        "colab": {}
      },
      "cell_type": "code",
      "source": [
        "data['label'] = data['reviews.rating'].apply(lambda x: 0 if x<=2 else 1 )"
      ],
      "execution_count": 0,
      "outputs": []
    },
    {
      "metadata": {
        "id": "pLNcMg1isJ0x",
        "colab_type": "code",
        "colab": {
          "base_uri": "https://localhost:8080/",
          "height": 51
        },
        "outputId": "eb94237b-705e-4cb9-8556-199168833c6b"
      },
      "cell_type": "code",
      "source": [
        "# performing train test split\n",
        "from sklearn.model_selection import train_test_split\n",
        "\n",
        "rev_train, rev_test, ratings_train, ratings_test = \\\n",
        "train_test_split(data['reviews.text'], data['label'], test_size=0.2, random_state = 0)\n",
        "\n",
        "print('Shape of training set is: {}'.format(rev_train.shape))\n",
        "print('Shape of test set is: {}'.format(rev_test.shape))"
      ],
      "execution_count": 37,
      "outputs": [
        {
          "output_type": "stream",
          "text": [
            "Shape of training set is: (23570,)\n",
            "Shape of test set is: (5893,)\n"
          ],
          "name": "stdout"
        }
      ]
    },
    {
      "metadata": {
        "id": "qswyJJlGzmEt",
        "colab_type": "text"
      },
      "cell_type": "markdown",
      "source": [
        "Creating a pipeline to execute a set of events."
      ]
    },
    {
      "metadata": {
        "id": "6jcjVdtRsLks",
        "colab_type": "code",
        "colab": {}
      },
      "cell_type": "code",
      "source": [
        "#importing the library for pipeline and classifier\n",
        "from sklearn.pipeline import Pipeline\n",
        "from sklearn.naive_bayes import MultinomialNB\n",
        "\n",
        "pipeline = Pipeline([\n",
        "    ('bow', CountVectorizer(analyzer=text_process)),  # strings to token integer counts\n",
        "    ('tfidf', TfidfTransformer()),  # integer counts to weighted TF-IDF scores\n",
        "    ('classifier', MultinomialNB()),  # train on TF-IDF vectors w/ Naive Bayes classifier\n",
        "])"
      ],
      "execution_count": 0,
      "outputs": []
    },
    {
      "metadata": {
        "id": "mecNuCbjuRqD",
        "colab_type": "code",
        "colab": {
          "base_uri": "https://localhost:8080/",
          "height": 122
        },
        "outputId": "50f73919-7f64-4916-db7e-7af598466275"
      },
      "cell_type": "code",
      "source": [
        "# fitting the dataset to the pipeline\n",
        "pipeline.fit(rev_train,ratings_train)"
      ],
      "execution_count": 39,
      "outputs": [
        {
          "output_type": "execute_result",
          "data": {
            "text/plain": [
              "Pipeline(memory=None,\n",
              "     steps=[('bow', CountVectorizer(analyzer=<function text_process at 0x7f7fe6a13d08>,\n",
              "        binary=False, decode_error='strict', dtype=<class 'numpy.int64'>,\n",
              "        encoding='utf-8', input='content', lowercase=True, max_df=1.0,\n",
              "        max_features=None, min_df=1, ngram_range=(1, 1), preprocessor=No...f=False, use_idf=True)), ('classifier', MultinomialNB(alpha=1.0, class_prior=None, fit_prior=True))])"
            ]
          },
          "metadata": {
            "tags": []
          },
          "execution_count": 39
        }
      ]
    },
    {
      "metadata": {
        "id": "oh8GnTq2ui5T",
        "colab_type": "code",
        "colab": {}
      },
      "cell_type": "code",
      "source": [
        "# storing the predicted results in the predictions\n",
        "predictions = pipeline.predict(rev_test)"
      ],
      "execution_count": 0,
      "outputs": []
    },
    {
      "metadata": {
        "id": "ILUEl4o8uuy_",
        "colab_type": "code",
        "colab": {}
      },
      "cell_type": "code",
      "source": [
        "# importing the libraries to analyse the results\n",
        "from sklearn.metrics import confusion_matrix, classification_report, accuracy_score, f1_score"
      ],
      "execution_count": 0,
      "outputs": []
    },
    {
      "metadata": {
        "id": "S-1vEW5Eu4N-",
        "colab_type": "code",
        "colab": {
          "base_uri": "https://localhost:8080/",
          "height": 337
        },
        "outputId": "6912e4ef-374c-422a-834e-e084c0cc3290"
      },
      "cell_type": "code",
      "source": [
        "# plotting the confusion matrix to analyse the results better\n",
        "cm = confusion_matrix(ratings_test, predictions)\n",
        "plt.figure(figsize = (5,5))\n",
        "sns.heatmap(cm, annot=True, fmt='g')"
      ],
      "execution_count": 42,
      "outputs": [
        {
          "output_type": "execute_result",
          "data": {
            "text/plain": [
              "<matplotlib.axes._subplots.AxesSubplot at 0x7f7fdbed87b8>"
            ]
          },
          "metadata": {
            "tags": []
          },
          "execution_count": 42
        },
        {
          "output_type": "display_data",
          "data": {
            "image/png": "[encoded data removed]",
            "text/plain": [
              "<matplotlib.figure.Figure at 0x7f7fdbef2518>"
            ]
          },
          "metadata": {
            "tags": []
          }
        }
      ]
    },
    {
      "metadata": {
        "id": "URKDCVdgutuz",
        "colab_type": "code",
        "colab": {
          "base_uri": "https://localhost:8080/",
          "height": 136
        },
        "outputId": "a542f566-b2b7-4730-923b-051922856217"
      },
      "cell_type": "code",
      "source": [
        "# printing the classification report\n",
        "print(classification_report(ratings_test, predictions))"
      ],
      "execution_count": 43,
      "outputs": [
        {
          "output_type": "stream",
          "text": [
            "             precision    recall  f1-score   support\n",
            "\n",
            "          0       0.82      0.13      0.23      1160\n",
            "          1       0.82      0.99      0.90      4733\n",
            "\n",
            "avg / total       0.82      0.82      0.77      5893\n",
            "\n"
          ],
          "name": "stdout"
        }
      ]
    },
    {
      "metadata": {
        "id": "psFlLlIpv1lO",
        "colab_type": "code",
        "colab": {
          "base_uri": "https://localhost:8080/",
          "height": 51
        },
        "outputId": "28265a16-37a3-4612-c272-26f6d2f0b2ab"
      },
      "cell_type": "code",
      "source": [
        "print(\"Accuracy of the model is found to be: \",accuracy_score(ratings_test, predictions))\n",
        "print(\"F1 score of the model is found to be: \",f1_score(ratings_test, predictions))"
      ],
      "execution_count": 44,
      "outputs": [
        {
          "output_type": "stream",
          "text": [
            "Accuracy of the model is found to be:  0.8231800441201426\n",
            "F1 score of the model is found to be:  0.900191570881226\n"
          ],
          "name": "stdout"
        }
      ]
    },
    {
      "metadata": {
        "id": "0h2hCOOg9F9O",
        "colab_type": "text"
      },
      "cell_type": "markdown",
      "source": [
        "Accuarcy of the model in classifying the hotel to Good based upon the user reviews seems to be preety good. \n",
        "Although model is not able to determine the labels which are 'Bad'. It can be seen from there recall and f1 score. This is due to the fact that there are uneven amount of labels in the training set. It can seen from below."
      ]
    },
    {
      "metadata": {
        "id": "3zFWhjtPLd-a",
        "colab_type": "code",
        "colab": {
          "base_uri": "https://localhost:8080/",
          "height": 68
        },
        "outputId": "29b04129-bfac-4147-e5df-03b10ccf8f08"
      },
      "cell_type": "code",
      "source": [
        "data['label'].value_counts()"
      ],
      "execution_count": 45,
      "outputs": [
        {
          "output_type": "execute_result",
          "data": {
            "text/plain": [
              "1    23881\n",
              "0     5582\n",
              "Name: label, dtype: int64"
            ]
          },
          "metadata": {
            "tags": []
          },
          "execution_count": 45
        }
      ]
    },
    {
      "metadata": {
        "id": "VBs0el-aLn2X",
        "colab_type": "text"
      },
      "cell_type": "markdown",
      "source": [
        "So, to train our model better, we will be using an over sampling technique called SMOTE (Synthetic Minority Over-sampling Technique). This will balance the data in the dataset."
      ]
    },
    {
      "metadata": {
        "id": "O5OANR6HLlkv",
        "colab_type": "code",
        "colab": {
          "base_uri": "https://localhost:8080/",
          "height": 258
        },
        "outputId": "216bd330-3db5-4d1e-a214-db2e723d7d5d"
      },
      "cell_type": "code",
      "source": [
        "# importing the library\n",
        "#!pip install imbalanced-learn   #--for installing the library\n",
        "from imblearn.over_sampling import SMOTE\n",
        "\n",
        "sm = SMOTE()"
      ],
      "execution_count": 47,
      "outputs": [
        {
          "output_type": "stream",
          "text": [
            "Collecting imbalanced-learn\n",
            "\u001b[?25l  Downloading https://files.pythonhosted.org/packages/e5/4c/7557e1c2e791bd43878f8c82065bddc5798252084f26ef44527c02262af1/imbalanced_learn-0.4.3-py3-none-any.whl (166kB)\n",
            "\u001b[K    100% |████████████████████████████████| 174kB 13.3MB/s \n",
            "\u001b[?25hRequirement already satisfied: numpy>=1.8.2 in /usr/local/lib/python3.6/dist-packages (from imbalanced-learn) (1.14.6)\n",
            "Collecting scikit-learn>=0.20 (from imbalanced-learn)\n",
            "\u001b[?25l  Downloading https://files.pythonhosted.org/packages/10/26/d04320c3edf2d59b1fcd0720b46753d4d603a76e68d8ad10a9b92ab06db2/scikit_learn-0.20.1-cp36-cp36m-manylinux1_x86_64.whl (5.4MB)\n",
            "\u001b[K    100% |████████████████████████████████| 5.4MB 7.1MB/s \n",
            "\u001b[?25hRequirement already satisfied: scipy>=0.13.3 in /usr/local/lib/python3.6/dist-packages (from imbalanced-learn) (1.1.0)\n",
            "Installing collected packages: scikit-learn, imbalanced-learn\n",
            "  Found existing installation: scikit-learn 0.19.2\n",
            "    Uninstalling scikit-learn-0.19.2:\n",
            "      Successfully uninstalled scikit-learn-0.19.2\n",
            "Successfully installed imbalanced-learn-0.4.3 scikit-learn-0.20.1\n"
          ],
          "name": "stdout"
        }
      ]
    },
    {
      "metadata": {
        "id": "Jto7PKDJM2NQ",
        "colab_type": "code",
        "colab": {
          "base_uri": "https://localhost:8080/",
          "height": 51
        },
        "outputId": "6287a622-d552-4c1b-a1a6-f961a93db656"
      },
      "cell_type": "code",
      "source": [
        "# performing train test split\n",
        "from sklearn.model_selection import train_test_split\n",
        "\n",
        "rev_train_res, rev_test_res, ratings_train_res, ratings_test_res = \\\n",
        "train_test_split(reviews_tfidf, data['label'], test_size=0.2, random_state = 0)\n",
        "\n",
        "print('Shape of training set is: {}'.format(rev_train_res.shape))\n",
        "print('Shape of test set is: {}'.format(rev_test_res.shape))"
      ],
      "execution_count": 48,
      "outputs": [
        {
          "output_type": "stream",
          "text": [
            "Shape of training set is: (23570, 22482)\n",
            "Shape of test set is: (5893, 22482)\n"
          ],
          "name": "stdout"
        }
      ]
    },
    {
      "metadata": {
        "id": "xAGm3753L6Vg",
        "colab_type": "code",
        "colab": {}
      },
      "cell_type": "code",
      "source": [
        "# fitting the datset to the object of SMOTE class.\n",
        "rev_train_res, ratings_train_res = sm.fit_sample(rev_train_res, ratings_train_res)"
      ],
      "execution_count": 0,
      "outputs": []
    },
    {
      "metadata": {
        "id": "7xVJG7BfMNYP",
        "colab_type": "code",
        "colab": {
          "base_uri": "https://localhost:8080/",
          "height": 34
        },
        "outputId": "c416e89c-f9b8-45b7-efc3-d14de42be5af"
      },
      "cell_type": "code",
      "source": [
        "# checking whether class is still imbalanced or not?\n",
        "unique, counts = np.unique(ratings_train_res, return_counts=True)\n",
        "print(list(zip(unique, counts)))"
      ],
      "execution_count": 50,
      "outputs": [
        {
          "output_type": "stream",
          "text": [
            "[(0, 19148), (1, 19148)]\n"
          ],
          "name": "stdout"
        }
      ]
    },
    {
      "metadata": {
        "id": "8YIrbNVQNfC9",
        "colab_type": "code",
        "colab": {
          "base_uri": "https://localhost:8080/",
          "height": 34
        },
        "outputId": "f5948467-c4db-492c-97be-28419d7d83e6"
      },
      "cell_type": "code",
      "source": [
        "# fitting the model to the over sampled data\n",
        "classifier = MultinomialNB()\n",
        "\n",
        "classifier.fit(rev_train_res, ratings_train_res)\n",
        "\n",
        "print('Score of the Model is: ',classifier.score(rev_train_res, ratings_train_res))"
      ],
      "execution_count": 51,
      "outputs": [
        {
          "output_type": "stream",
          "text": [
            "Score of the Model is:  0.8825464800501358\n"
          ],
          "name": "stdout"
        }
      ]
    },
    {
      "metadata": {
        "id": "CAlvid9WN257",
        "colab_type": "code",
        "colab": {}
      },
      "cell_type": "code",
      "source": [
        "# storing the prediction of the model on the resampled data\n",
        "predictions_res = classifier.predict(rev_test_res)"
      ],
      "execution_count": 0,
      "outputs": []
    },
    {
      "metadata": {
        "id": "j0EpjDdNOH1x",
        "colab_type": "code",
        "colab": {
          "base_uri": "https://localhost:8080/",
          "height": 337
        },
        "outputId": "c7a17798-cf96-449d-aa10-5dd5f1929d45"
      },
      "cell_type": "code",
      "source": [
        "# plotting the confusion matrix to analyse the results better\n",
        "cm = confusion_matrix(ratings_test_res, predictions_res)\n",
        "plt.figure(figsize = (5,5))\n",
        "sns.heatmap(cm, annot=True, fmt='g')"
      ],
      "execution_count": 53,
      "outputs": [
        {
          "output_type": "execute_result",
          "data": {
            "text/plain": [
              "<matplotlib.axes._subplots.AxesSubplot at 0x7f7fdbc07ef0>"
            ]
          },
          "metadata": {
            "tags": []
          },
          "execution_count": 53
        },
        {
          "output_type": "display_data",
          "data": {
            "image/png": "[encoded data removed]",
            "text/plain": [
              "<matplotlib.figure.Figure at 0x7f7fdbc074a8>"
            ]
          },
          "metadata": {
            "tags": []
          }
        }
      ]
    },
    {
      "metadata": {
        "id": "nNqrzUJMOXzg",
        "colab_type": "code",
        "colab": {
          "base_uri": "https://localhost:8080/",
          "height": 136
        },
        "outputId": "528bd5c8-0e4a-4d42-cd0d-3e5c29f57367"
      },
      "cell_type": "code",
      "source": [
        "# printing the classification report\n",
        "print(classification_report(ratings_test_res, predictions_res))"
      ],
      "execution_count": 54,
      "outputs": [
        {
          "output_type": "stream",
          "text": [
            "             precision    recall  f1-score   support\n",
            "\n",
            "          0       0.55      0.83      0.66      1160\n",
            "          1       0.95      0.83      0.89      4733\n",
            "\n",
            "avg / total       0.87      0.83      0.85      5893\n",
            "\n"
          ],
          "name": "stdout"
        }
      ]
    },
    {
      "metadata": {
        "id": "D7-AWZm_Okiw",
        "colab_type": "code",
        "colab": {
          "base_uri": "https://localhost:8080/",
          "height": 51
        },
        "outputId": "a5513b6a-89f4-418c-8543-872147fa6bc7"
      },
      "cell_type": "code",
      "source": [
        "print(\"Accuracy of the model is found to be: \",accuracy_score(ratings_test_res, predictions_res))\n",
        "print(\"F1 score of the model is found to be: \",f1_score(ratings_test_res, predictions_res))"
      ],
      "execution_count": 55,
      "outputs": [
        {
          "output_type": "stream",
          "text": [
            "Accuracy of the model is found to be:  0.83370100118785\n",
            "F1 score of the model is found to be:  0.8895152198421645\n"
          ],
          "name": "stdout"
        }
      ]
    },
    {
      "metadata": {
        "id": "UBPEUYGrO01z",
        "colab_type": "text"
      },
      "cell_type": "markdown",
      "source": [
        "Accuarcy of the model in classifying the hotel to Good and Bad based upon the user reviews seems to be preety good now than before.\n",
        "The results have significantly improved. Now we can see that both the recall and f1 score of the model in determining the bad reviews seem to be pretty good.\n",
        "\n"
      ]
    },
    {
      "metadata": {
        "id": "ZAusSZDuPdzA",
        "colab_type": "text"
      },
      "cell_type": "markdown",
      "source": [
        "Lets check the models performance on the reviews manually given."
      ]
    },
    {
      "metadata": {
        "id": "hh9z6TokPmUH",
        "colab_type": "code",
        "colab": {
          "base_uri": "https://localhost:8080/",
          "height": 51
        },
        "outputId": "33048639-d32e-47ac-8b12-f06b9165b671"
      },
      "cell_type": "code",
      "source": [
        "# prediction based on the review manually input'd\n",
        "review = 'dirty rooms and beds are not align'\n",
        "print('Prediction: ',classifier.predict(tfidf_transformer.transform(bow_transformer.transform([review]))))\n",
        "review = 'rooms are very beautiful and nice'\n",
        "print('Prediction: ',classifier.predict(tfidf_transformer.transform(bow_transformer.transform([review]))))"
      ],
      "execution_count": 56,
      "outputs": [
        {
          "output_type": "stream",
          "text": [
            "Prediction:  [0]\n",
            "Prediction:  [1]\n"
          ],
          "name": "stdout"
        }
      ]
    },
    {
      "metadata": {
        "id": "Y48Wy8_PPKyM",
        "colab_type": "text"
      },
      "cell_type": "markdown",
      "source": [
        "###Thus, the final accuracy of the model is determined to be found = 83.37%"
      ]
    }
  ]
}